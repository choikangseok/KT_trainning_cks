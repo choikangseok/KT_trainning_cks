{
 "cells": [
  {
   "cell_type": "code",
   "execution_count": null,
   "metadata": {},
   "outputs": [],
   "source": [
    "text = \"When an Open Data standard is created and promoted, it’s important to think why - what change is this trying to drive? What will people do with this data that they couldn’t do before?\""
   ]
  },
  {
   "cell_type": "code",
   "execution_count": null,
   "metadata": {},
   "outputs": [],
   "source": [
    "dir(text)"
   ]
  },
  {
   "cell_type": "code",
   "execution_count": null,
   "metadata": {},
   "outputs": [],
   "source": [
    "set(text.lower()) - set(' abcdefghijklmnopqrstuvwxyz')"
   ]
  },
  {
   "cell_type": "code",
   "execution_count": null,
   "metadata": {},
   "outputs": [],
   "source": [
    "text.split(' ')"
   ]
  },
  {
   "cell_type": "code",
   "execution_count": null,
   "metadata": {},
   "outputs": [],
   "source": [
    "song = \"let it be\""
   ]
  },
  {
   "cell_type": "code",
   "execution_count": null,
   "metadata": {},
   "outputs": [],
   "source": [
    "song.capitalize()"
   ]
  },
  {
   "cell_type": "code",
   "execution_count": null,
   "metadata": {},
   "outputs": [],
   "source": [
    "song.title()"
   ]
  },
  {
   "cell_type": "code",
   "execution_count": null,
   "metadata": {},
   "outputs": [],
   "source": [
    "# 1 ~ 10000 적으면, 8이라는 숫자는 몇 번 등장할까요?\n",
    "str(list(range(1, 10000))).count('8')"
   ]
  },
  {
   "cell_type": "code",
   "execution_count": 47,
   "metadata": {},
   "outputs": [],
   "source": [
    "lyrics = \"\"\"\n",
    "When I find myself in times of trouble\n",
    "Mother Mary comes to me\n",
    "Speaking words of wisdom, let it be.\n",
    "And in my hour of darkness\n",
    "She is standing right in front of me\n",
    "Speaking words of wisdom, let it be.\n",
    "Let it be, let it be.\n",
    "Whisper words of wisdom, let it be.\n",
    "And when the broken hearted people\n",
    "Living in the world agree,\n",
    "There will be an answer, let it be.\n",
    "For though they may be parted there is\n",
    "Still a chance that they will see\n",
    "There will be an answer, let it be\n",
    "Let it be, let it be. Yeah\n",
    "There will be an answer, let it be.\n",
    "And when the night is cloudy,\n",
    "There is still a light that…\n",
    "\"\"\""
   ]
  },
  {
   "cell_type": "code",
   "execution_count": 48,
   "metadata": {},
   "outputs": [
    {
     "name": "stdout",
     "output_type": "stream",
     "text": [
      "{'.', ',', '…'}\n",
      " when i find myself in times of trouble mother mary comes to me speaking words of wisdom let it be and in my hour of darkness she is standing right in front of me speaking words of wisdom let it be let it be let it be whisper words of wisdom let it be and when the broken hearted people living in the world agree there will be an answer let it be for though they may be parted there is still a chance that they will see there will be an answer let it be let it be let it be yeah there will be an answer let it be and when the night is cloudy there is still a light that \n"
     ]
    }
   ],
   "source": [
    "# 소문자\n",
    "lyrics = lyrics.lower().replace('\\n', ' ')\n",
    "\n",
    "# 특수문자 찾기\n",
    "chrs = set(lyrics) - set(' abcdefghijklmnopqrstuvwxyz')\n",
    "print(chrs)\n",
    "\n",
    "# chrs의 특수문자를 하나씩 꺼내서 lyrics 문자열 replace\n",
    "for c in chrs:\n",
    "    lyrics = lyrics.replace(c, '')\n",
    "    \n",
    "print(lyrics)"
   ]
  },
  {
   "cell_type": "code",
   "execution_count": 53,
   "metadata": {},
   "outputs": [
    {
     "name": "stdout",
     "output_type": "stream",
     "text": [
      "True\n",
      "False\n",
      "{'when': 3, 'i': 1, 'find': 1, 'myself': 1, 'in': 4, 'times': 1, 'of': 6, 'trouble': 1, 'mother': 1, 'mary': 1, 'comes': 1, 'to': 1, 'me': 2, 'speaking': 2, 'words': 3, 'wisdom': 3, 'let': 10, 'it': 10, 'be': 14, 'and': 3, 'my': 1, 'hour': 1, 'darkness': 1, 'she': 1, 'is': 4, 'standing': 1, 'right': 1, 'front': 1, 'whisper': 1, 'the': 3, 'broken': 1, 'hearted': 1, 'people': 1, 'living': 1, 'world': 1, 'agree': 1, 'there': 5, 'will': 4, 'an': 3, 'answer': 3, 'for': 1, 'though': 1, 'they': 2, 'may': 1, 'parted': 1, 'still': 2, 'a': 2, 'chance': 1, 'that': 2, 'see': 1, 'yeah': 1, 'night': 1, 'cloudy': 1, 'light': 1}\n"
     ]
    }
   ],
   "source": [
    "# ' '(공백)을 기준으로 단어 분리\n",
    "words = lyrics.split(' ')\n",
    "\n",
    "# word_dict: {'word': 1, 'when': 1, 'i': 3}\n",
    "word_dict = {}\n",
    "\n",
    "print('word' in {'word': 1, 'when': 1, 'i': 3})\n",
    "print('you' in {'word': 1, 'when': 1, 'i': 3})\n",
    "\n",
    "for w in words:\n",
    "    if w not in word_dict:\n",
    "        word_dict[w] = 1\n",
    "    else:\n",
    "        # word_dict[w] = word_dict[w] + 1\n",
    "        word_dict[w] += 1\n",
    "\n",
    "# '' 단어는 제거\n",
    "del word_dict['']\n",
    "\n",
    "print(word_dict)"
   ]
  },
  {
   "cell_type": "code",
   "execution_count": 77,
   "metadata": {},
   "outputs": [
    {
     "name": "stdout",
     "output_type": "stream",
     "text": [
      "[('an', 3), ('answer', 3), ('in', 4), ('is', 4), ('will', 4), ('there', 5), ('of', 6), ('let', 10), ('it', 10), ('be', 14)]\n"
     ]
    },
    {
     "data": {
      "text/plain": [
       "['an', 'answer', 'in', 'is', 'will', 'there', 'of', 'let', 'it', 'be']"
      ]
     },
     "execution_count": 77,
     "metadata": {},
     "output_type": "execute_result"
    }
   ],
   "source": [
    "# dict => list of tuple\n",
    "list(word_dict.items())\n",
    "\n",
    "# 튜플의 1번째 요소로 정렬\n",
    "sorted_words = sorted(word_dict.items(), key=lambda x: x[1])\n",
    "print(sorted_words[-10:])\n",
    "\n",
    "# 맨 뒤 10개의 단어 추출\n",
    "selected = [e[0] for e in sorted_words[-10:]]\n",
    "print(selected)"
   ]
  },
  {
   "cell_type": "code",
   "execution_count": 80,
   "metadata": {},
   "outputs": [],
   "source": [
    "# lambda x: x[1]\n",
    "def anonymous(x):\n",
    "    return x[1]"
   ]
  },
  {
   "cell_type": "code",
   "execution_count": 42,
   "metadata": {},
   "outputs": [
    {
     "name": "stdout",
     "output_type": "stream",
     "text": [
      "bc\n",
      "abc\n"
     ]
    }
   ],
   "source": [
    "text = 'abc'\n",
    "print(text.replace('a', ''))\n",
    "print(text)"
   ]
  },
  {
   "cell_type": "code",
   "execution_count": 44,
   "metadata": {},
   "outputs": [
    {
     "name": "stdout",
     "output_type": "stream",
     "text": [
      "c\n"
     ]
    }
   ],
   "source": [
    "for c in ['a', 'b']:\n",
    "    text = text.replace(c, '')\n",
    "    \n",
    "print(text)"
   ]
  },
  {
   "cell_type": "code",
   "execution_count": 62,
   "metadata": {},
   "outputs": [
    {
     "data": {
      "text/plain": [
       "8"
      ]
     },
     "execution_count": 62,
     "metadata": {},
     "output_type": "execute_result"
    }
   ],
   "source": [
    "def add(a, b):\n",
    "    return a + b\n",
    "add(3, 5)"
   ]
  },
  {
   "cell_type": "code",
   "execution_count": 63,
   "metadata": {},
   "outputs": [
    {
     "data": {
      "text/plain": [
       "8"
      ]
     },
     "execution_count": 63,
     "metadata": {},
     "output_type": "execute_result"
    }
   ],
   "source": [
    "add2 = lambda a, b: a + b\n",
    "add2(3, 5)"
   ]
  },
  {
   "cell_type": "code",
   "execution_count": 64,
   "metadata": {},
   "outputs": [],
   "source": [
    "members = [\n",
    "    {'이름': 'sookbun', '영어': 60, '수학': 80},\n",
    "    {'이름': 'duru', '영어': 100, '수학': 90},\n",
    "    {'이름': 'egoing', '영어': 90, '수학': 70},\n",
    "]\n",
    "\n",
    "points = [60, 100, 90]"
   ]
  },
  {
   "cell_type": "code",
   "execution_count": 65,
   "metadata": {},
   "outputs": [
    {
     "data": {
      "text/plain": [
       "[60, 90, 100]"
      ]
     },
     "execution_count": 65,
     "metadata": {},
     "output_type": "execute_result"
    }
   ],
   "source": [
    "sorted(points)"
   ]
  },
  {
   "cell_type": "code",
   "execution_count": 68,
   "metadata": {},
   "outputs": [
    {
     "data": {
      "text/plain": [
       "[{'이름': 'sookbun', '영어': 60, '수학': 80},\n",
       " {'이름': 'egoing', '영어': 90, '수학': 70},\n",
       " {'이름': 'duru', '영어': 100, '수학': 90}]"
      ]
     },
     "execution_count": 68,
     "metadata": {},
     "output_type": "execute_result"
    }
   ],
   "source": [
    "sorted(members, key=lambda x: (x['수학'] + x['영어']) / 2)"
   ]
  },
  {
   "cell_type": "code",
   "execution_count": 69,
   "metadata": {},
   "outputs": [
    {
     "data": {
      "text/plain": [
       "[140, 190, 160]"
      ]
     },
     "execution_count": 69,
     "metadata": {},
     "output_type": "execute_result"
    }
   ],
   "source": [
    "list(map(lambda x: (x['수학'] + x['영어']), members))"
   ]
  },
  {
   "cell_type": "code",
   "execution_count": 71,
   "metadata": {},
   "outputs": [
    {
     "data": {
      "text/plain": [
       "[{'이름': 'duru', '영어': 100, '수학': 90}, {'이름': 'egoing', '영어': 90, '수학': 70}]"
      ]
     },
     "execution_count": 71,
     "metadata": {},
     "output_type": "execute_result"
    }
   ],
   "source": [
    "list(filter(lambda x: x['영어'] >= 90, members))"
   ]
  },
  {
   "cell_type": "code",
   "execution_count": 72,
   "metadata": {},
   "outputs": [
    {
     "data": {
      "text/plain": [
       "[{'이름': 'duru', '영어': 100, '수학': 90}, {'이름': 'egoing', '영어': 90, '수학': 70}]"
      ]
     },
     "execution_count": 72,
     "metadata": {},
     "output_type": "execute_result"
    }
   ],
   "source": [
    "def filter0(x):\n",
    "    return x['영어'] >= 90\n",
    "list(filter(filter0, members))"
   ]
  },
  {
   "cell_type": "code",
   "execution_count": 79,
   "metadata": {},
   "outputs": [
    {
     "name": "stdout",
     "output_type": "stream",
     "text": [
      "list comprehension [2, 4, 6, 8, 10, 12, 14, 16, 18]\n",
      "map with lambda [2, 4, 6, 8, 10, 12, 14, 16, 18]\n"
     ]
    }
   ],
   "source": [
    "numbers = [1, 2, 3, 4, 5, 6, 7, 8, 9]\n",
    "print('list comprehension', [e * 2 for e in numbers])\n",
    "print('map with lambda', list(map(lambda x: x * 2, numbers)))\n"
   ]
  },
  {
   "cell_type": "code",
   "execution_count": 81,
   "metadata": {},
   "outputs": [
    {
     "data": {
      "text/plain": [
       "[{'이름': 'sookbun', '영어': 60, '수학': 80},\n",
       " {'이름': 'duru', '영어': 100, '수학': 90},\n",
       " {'이름': 'egoing', '영어': 90, '수학': 70}]"
      ]
     },
     "execution_count": 81,
     "metadata": {},
     "output_type": "execute_result"
    }
   ],
   "source": [
    "members"
   ]
  },
  {
   "cell_type": "code",
   "execution_count": 82,
   "metadata": {},
   "outputs": [
    {
     "data": {
      "text/plain": [
       "[{'이름': 'duru', '영어': 100, '수학': 90}, {'이름': 'egoing', '영어': 90, '수학': 70}]"
      ]
     },
     "execution_count": 82,
     "metadata": {},
     "output_type": "execute_result"
    }
   ],
   "source": [
    "list(filter(lambda x: x['영어'] >= 90, members))"
   ]
  },
  {
   "cell_type": "code",
   "execution_count": null,
   "metadata": {},
   "outputs": [],
   "source": [
    "def filter_over_90_english(members):\n",
    "    result = []\n",
    "    for m in members:\n",
    "        if m['영어'] >= 0:\n",
    "            result.append(m)\n",
    "            \n",
    "    return result"
   ]
  },
  {
   "cell_type": "code",
   "execution_count": 83,
   "metadata": {},
   "outputs": [
    {
     "name": "stdout",
     "output_type": "stream",
     "text": [
      "Requirement already satisfied: konlpy in /Users/sookbunlee/.pyenv/versions/3.8.2/lib/python3.8/site-packages (0.5.2)\n",
      "Requirement already satisfied: JPype1>=0.7.0 in /Users/sookbunlee/.pyenv/versions/3.8.2/lib/python3.8/site-packages (from konlpy) (0.7.2)\n",
      "Requirement already satisfied: beautifulsoup4==4.6.0 in /Users/sookbunlee/.pyenv/versions/3.8.2/lib/python3.8/site-packages (from konlpy) (4.6.0)\n",
      "Requirement already satisfied: lxml>=4.1.0 in /Users/sookbunlee/.pyenv/versions/3.8.2/lib/python3.8/site-packages (from konlpy) (4.5.0)\n",
      "Requirement already satisfied: numpy>=1.6 in /Users/sookbunlee/.pyenv/versions/3.8.2/lib/python3.8/site-packages (from konlpy) (1.18.2)\n",
      "Requirement already satisfied: colorama in /Users/sookbunlee/.pyenv/versions/3.8.2/lib/python3.8/site-packages (from konlpy) (0.4.3)\n",
      "Requirement already satisfied: tweepy>=3.7.0 in /Users/sookbunlee/.pyenv/versions/3.8.2/lib/python3.8/site-packages (from konlpy) (3.8.0)\n",
      "Requirement already satisfied: requests>=2.11.1 in /Users/sookbunlee/.pyenv/versions/3.8.2/lib/python3.8/site-packages (from tweepy>=3.7.0->konlpy) (2.23.0)\n",
      "Requirement already satisfied: PySocks>=1.5.7 in /Users/sookbunlee/.pyenv/versions/3.8.2/lib/python3.8/site-packages (from tweepy>=3.7.0->konlpy) (1.7.1)\n",
      "Requirement already satisfied: requests-oauthlib>=0.7.0 in /Users/sookbunlee/.pyenv/versions/3.8.2/lib/python3.8/site-packages (from tweepy>=3.7.0->konlpy) (1.3.0)\n",
      "Requirement already satisfied: six>=1.10.0 in /Users/sookbunlee/.pyenv/versions/3.8.2/lib/python3.8/site-packages (from tweepy>=3.7.0->konlpy) (1.14.0)\n",
      "Requirement already satisfied: urllib3!=1.25.0,!=1.25.1,<1.26,>=1.21.1 in /Users/sookbunlee/.pyenv/versions/3.8.2/lib/python3.8/site-packages (from requests>=2.11.1->tweepy>=3.7.0->konlpy) (1.25.8)\n",
      "Requirement already satisfied: chardet<4,>=3.0.2 in /Users/sookbunlee/.pyenv/versions/3.8.2/lib/python3.8/site-packages (from requests>=2.11.1->tweepy>=3.7.0->konlpy) (3.0.4)\n",
      "Requirement already satisfied: certifi>=2017.4.17 in /Users/sookbunlee/.pyenv/versions/3.8.2/lib/python3.8/site-packages (from requests>=2.11.1->tweepy>=3.7.0->konlpy) (2020.4.5.1)\n",
      "Requirement already satisfied: idna<3,>=2.5 in /Users/sookbunlee/.pyenv/versions/3.8.2/lib/python3.8/site-packages (from requests>=2.11.1->tweepy>=3.7.0->konlpy) (2.9)\n",
      "Requirement already satisfied: oauthlib>=3.0.0 in /Users/sookbunlee/.pyenv/versions/3.8.2/lib/python3.8/site-packages (from requests-oauthlib>=0.7.0->tweepy>=3.7.0->konlpy) (3.1.0)\n"
     ]
    }
   ],
   "source": [
    "!pip install konlpy"
   ]
  },
  {
   "cell_type": "code",
   "execution_count": 84,
   "metadata": {},
   "outputs": [],
   "source": [
    "lyrics = \"\"\"\n",
    "동해물과 백두산이 마르고 닳도록\n",
    "하느님이 보우하사 우리나라만세\n",
    "무궁화 삼천리 화려강산 대한사람 대한으로 길이 보전하세\n",
    "남산위에 저 소나무 철갑을 두른듯\n",
    "바람서리 불변함은 우리기상 일세\n",
    "무궁화 삼천리 화려강산 대한사람 대한으로 길이보전하세\n",
    "가을하늘 공활한데 높고 구름없이 \n",
    "밝은달은 우리가슴 일편단심일세\n",
    "무궁화 삼천리 화려강산 대한사람 대한으로 길이보전하세\n",
    "이 기상과 이 맘으로 충성을 다하여\n",
    "괴로우나 즐거우나 나라사랑하세\n",
    "무궁화 삼천리 화려강산 대한사람 대한으로 길이보전하세\n",
    "\"\"\""
   ]
  },
  {
   "cell_type": "code",
   "execution_count": 85,
   "metadata": {},
   "outputs": [],
   "source": [
    "from konlpy.tag import Kkma\n",
    "kkma = Kkma()"
   ]
  },
  {
   "cell_type": "code",
   "execution_count": 86,
   "metadata": {},
   "outputs": [
    {
     "data": {
      "text/plain": [
       "['물',\n",
       " '백두산',\n",
       " '하느님',\n",
       " '보우',\n",
       " '보우하사',\n",
       " '하사',\n",
       " '우리',\n",
       " '우리나라',\n",
       " '우리나라만세',\n",
       " '나라',\n",
       " '만세',\n",
       " '무궁화',\n",
       " '삼천리',\n",
       " '화려',\n",
       " '화려강산',\n",
       " '강산',\n",
       " '대',\n",
       " '사람',\n",
       " '대한',\n",
       " '길이',\n",
       " '보전',\n",
       " '보전하세',\n",
       " '하세',\n",
       " '남산',\n",
       " '남산위',\n",
       " '위',\n",
       " '소나무',\n",
       " '철갑',\n",
       " '듯',\n",
       " '바람',\n",
       " '바람서리',\n",
       " '서리',\n",
       " '불변',\n",
       " '우리기',\n",
       " '일세',\n",
       " '길이보전하세',\n",
       " '가을',\n",
       " '가을하늘',\n",
       " '하늘',\n",
       " '공',\n",
       " '공활',\n",
       " '활',\n",
       " '데',\n",
       " '구름',\n",
       " '달',\n",
       " '우리',\n",
       " '가슴',\n",
       " '일편단심',\n",
       " '무',\n",
       " '무궁',\n",
       " '궁',\n",
       " '이',\n",
       " '기상',\n",
       " '맘',\n",
       " '충성',\n",
       " '나라사랑하세',\n",
       " '사랑']"
      ]
     },
     "execution_count": 86,
     "metadata": {},
     "output_type": "execute_result"
    }
   ],
   "source": [
    "kkma.nouns(lyrics)"
   ]
  },
  {
   "cell_type": "code",
   "execution_count": 88,
   "metadata": {},
   "outputs": [],
   "source": [
    "words = kkma.pos(lyrics)"
   ]
  },
  {
   "cell_type": "code",
   "execution_count": 91,
   "metadata": {},
   "outputs": [
    {
     "data": {
      "text/plain": [
       "['물',\n",
       " '하느님',\n",
       " '보우',\n",
       " '하사',\n",
       " '우리나라',\n",
       " '만세',\n",
       " '무궁화',\n",
       " '삼천리',\n",
       " '화려',\n",
       " '강산',\n",
       " '대',\n",
       " '사람',\n",
       " '대한',\n",
       " '길이',\n",
       " '보전',\n",
       " '하세',\n",
       " '위',\n",
       " '소나무',\n",
       " '철갑',\n",
       " '바람',\n",
       " '서리',\n",
       " '불변',\n",
       " '우리기',\n",
       " '일세',\n",
       " '무궁화',\n",
       " '삼천리',\n",
       " '화려',\n",
       " '강산',\n",
       " '대',\n",
       " '사람',\n",
       " '대한',\n",
       " '길이',\n",
       " '보전',\n",
       " '하세',\n",
       " '가을',\n",
       " '하늘',\n",
       " '공',\n",
       " '활',\n",
       " '구름',\n",
       " '달',\n",
       " '가슴',\n",
       " '일편단심',\n",
       " '무',\n",
       " '궁',\n",
       " '삼천리',\n",
       " '화려',\n",
       " '강산',\n",
       " '대',\n",
       " '사람',\n",
       " '대한',\n",
       " '길이',\n",
       " '보전',\n",
       " '하세',\n",
       " '이',\n",
       " '기상',\n",
       " '맘',\n",
       " '충성',\n",
       " '나라',\n",
       " '사랑',\n",
       " '하세',\n",
       " '무궁화',\n",
       " '삼천리',\n",
       " '화려',\n",
       " '강산',\n",
       " '대',\n",
       " '사람',\n",
       " '대한',\n",
       " '길이',\n",
       " '보전',\n",
       " '하세']"
      ]
     },
     "execution_count": 91,
     "metadata": {},
     "output_type": "execute_result"
    }
   ],
   "source": [
    "words = [w[0] for w in words if w[1] == 'NNG']\n",
    "words"
   ]
  },
  {
   "cell_type": "code",
   "execution_count": 94,
   "metadata": {},
   "outputs": [],
   "source": [
    "lyrics = \"\"\"\n",
    "When I find myself in times of trouble\n",
    "Mother Mary comes to me duru@gmail.com\n",
    "Speaking words of wisdom, let it be.\n",
    "And in my hour of darkness\n",
    "She is standing right in front of me\n",
    "Speaking words of wisdom, let it be.\n",
    "Let it be, let it be. sookbun@dplus.company\n",
    "Whisper words of wisdom, let it be.\n",
    "And when the broken hearted people\n",
    "Living in the world agree, egoing@opentutorials.com\n",
    "There will be an answer, let it be.\n",
    "For though they may be parted there is\n",
    "Still a chance that they will see\n",
    "There will be an answer, let it be\n",
    "Let it be, let it be. Yeah\n",
    "There will be an answer, let it be.\n",
    "And when the night is cloudy,\n",
    "There is still a light that…\"\"\""
   ]
  },
  {
   "cell_type": "code",
   "execution_count": 103,
   "metadata": {},
   "outputs": [
    {
     "data": {
      "text/plain": [
       "[('duru@gmail.com', 'duru', 'gmail', 'com'),\n",
       " ('sookbun@dplus.compa', 'sookbun', 'dplus', 'compa'),\n",
       " ('egoing@opentutorials.com', 'egoing', 'opentutorials', 'com')]"
      ]
     },
     "execution_count": 103,
     "metadata": {},
     "output_type": "execute_result"
    }
   ],
   "source": [
    "import re\n",
    "\n",
    "regex = re.compile(\"((\\w+)@(\\w+)\\.(\\w{2,5}))\")\n",
    "re.findall(regex, lyrics)"
   ]
  },
  {
   "cell_type": "code",
   "execution_count": 117,
   "metadata": {},
   "outputs": [
    {
     "name": "stdout",
     "output_type": "stream",
     "text": [
      "[('duru@gmail.com', 'dur', 'gmail.com'), ('sookbun@dplus.compa', 'soo', 'dplus.compa'), ('egoing@opentutorials.com', 'ego', 'opentutorials.com')]\n",
      "\n",
      "When I find myself in times of trouble\n",
      "Mother Mary comes to me dur****@gmail.com\n",
      "Speaking words of wisdom, let it be.\n",
      "And in my hour of darkness\n",
      "She is standing right in front of me\n",
      "Speaking words of wisdom, let it be.\n",
      "Let it be, let it be. soo****@dplus.company\n",
      "Whisper words of wisdom, let it be.\n",
      "And when the broken hearted people\n",
      "Living in the world agree, ego****@opentutorials.com\n",
      "There will be an answer, let it be.\n",
      "For though they may be parted there is\n",
      "Still a chance that they will see\n",
      "There will be an answer, let it be\n",
      "Let it be, let it be. Yeah\n",
      "There will be an answer, let it be.\n",
      "And when the night is cloudy,\n",
      "There is still a light that…\n"
     ]
    }
   ],
   "source": [
    "regex = re.compile(\"((\\w{3})\\w+@(\\w+\\.\\w{2,5}))\")\n",
    "print(re.findall(regex, lyrics))\n",
    "print(re.sub(regex, \"\\g<2>****@\\g<3>\", lyrics))"
   ]
  },
  {
   "cell_type": "code",
   "execution_count": null,
   "metadata": {},
   "outputs": [],
   "source": []
  }
 ],
 "metadata": {
  "kernelspec": {
   "display_name": "Python 3",
   "language": "python",
   "name": "python3"
  },
  "language_info": {
   "codemirror_mode": {
    "name": "ipython",
    "version": 3
   },
   "file_extension": ".py",
   "mimetype": "text/x-python",
   "name": "python",
   "nbconvert_exporter": "python",
   "pygments_lexer": "ipython3",
   "version": "3.8.2"
  }
 },
 "nbformat": 4,
 "nbformat_minor": 4
}
