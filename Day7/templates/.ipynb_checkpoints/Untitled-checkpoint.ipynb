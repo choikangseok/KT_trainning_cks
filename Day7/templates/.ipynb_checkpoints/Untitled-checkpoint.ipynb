{
 "cells": [
  {
   "cell_type": "code",
   "execution_count": 4,
   "metadata": {},
   "outputs": [
    {
     "name": "stdout",
     "output_type": "stream",
     "text": [
      "<a href=\"http://info.cern.ch/hypertext/WWW/TheProject.html\">Browse the first website</a>\n",
      "http://info.cern.ch/hypertext/WWW/TheProject.html\n",
      "<bound method Tag.get of <a href=\"http://info.cern.ch/hypertext/WWW/TheProject.html\">Browse the first website</a>>\n"
     ]
    }
   ],
   "source": [
    "# import requests\n",
    "# from bs4 import BeautifulSoup\n",
    "\n",
    "# res = requests.get(\"http://info.cern.ch\")\n",
    "# soup= BeautifulSoup(res.content, 'html.parser')\n",
    "# print(soup.html.body.ul.li.a)\n",
    "# print(soup.html.body.ul.li.a['href'])\n",
    "# print(soup.html.body.ul.li.a.get)"
   ]
  },
  {
   "cell_type": "code",
   "execution_count": 54,
   "metadata": {},
   "outputs": [
    {
     "data": {
      "text/plain": [
       "[{'제목': '1917', '평점': '7.3', '관객수': '25647', '개봉일': '2020.02.19'},\n",
       " {'제목': '라라랜드', '평점': '8.0', '관객수': '22914', '개봉일': '2016.12.07'},\n",
       " {'제목': '서치 아웃', '평점': '5.8', '관객수': '20627', '개봉일': '2020.04.15'},\n",
       " {'제목': '건즈 아킴보', '평점': '5.5', '관객수': '18992', '개봉일': '2020.04.15'},\n",
       " {'제목': '오픈 더 도어 ', '평점': '6.3', '관객수': '12070', '개봉일': '2020.04.08'},\n",
       " {'제목': '엽문4: 더 파이널', '평점': '6.5', '관객수': '11879', '개봉일': '2020.04.01'},\n",
       " {'제목': '비밀정보원: 인 더 프리즌 ', '평점': '7.6', '관객수': '10666', '개봉일': '2020.04.15'},\n",
       " {'제목': '유령선', '평점': '9.0', '관객수': '8160', '개봉일': '2020.04.15'},\n",
       " {'제목': '주디', '평점': '8.1', '관객수': '6013', '개봉일': '2020.03.25'},\n",
       " {'제목': '라라걸', '평점': '9.6', '관객수': '5898', '개봉일': '2020.04.15'}]"
      ]
     },
     "execution_count": 54,
     "metadata": {},
     "output_type": "execute_result"
    }
   ],
   "source": [
    "import requests, re, pprint\n",
    "from bs4 import BeautifulSoup\n",
    "\n",
    "\n",
    "\n",
    "def get_movie_info(url):\n",
    "\n",
    "    res = requests.get(url)\n",
    "\n",
    "    soup = BeautifulSoup(res.content, 'html.parser')\n",
    "\n",
    "    movies=[]\n",
    "    # print(soup.select('.desc_boxthumb'))\n",
    "    for tag in soup.select('.desc_boxthumb'):\n",
    "        text = tag.select(\".list_state\")[0].get_text()\n",
    "        regex = re.compile(\"주간관객 (\\d+)명\\n개봉일\\n([0-9.]+) 개봉\")\n",
    "        movie = {\n",
    "            '제목' : tag.select(\".link_g\")[0].get_text(),\n",
    "            '평점' : tag.select(\".emph_grade\")[0].get_text(),\n",
    "            '관객수': re.findall(regex, text)[0][0],\n",
    "            '개봉일': re.findall(regex, text)[0][1],\n",
    "        }\n",
    "        movies.append(movie)\n",
    "    #     print('제목', tag.select(\".link_g\")[0].get_text())\n",
    "    #     print('평점', tag.select(\".emph_grade\")[0].get_text())\n",
    "    # #     print('관객수 + 평점', tag.select(\".list_state\")[0].get_text())\n",
    "    #     text = tag.select(\".list_state\")[0].get_text()\n",
    "    #     print('-----')\n",
    "    #     print(text)\n",
    "    #     print('-----')\n",
    "    # #     regex = re.compile(\"주간관객 (\\d+)명\")\n",
    "    # #     print('관객수', (re.findall(regex, text)))\n",
    "    # #     regex = re.compile(\"개봉일\\n([0-9.]+) 개봉\")\n",
    "    # #     print('개봉일', re.findall(regex, text))\n",
    "\n",
    "    #     regex = re.compile(\"주간관객 (\\d+)명\\n개봉일\\n([0-9.]+) 개봉\")\n",
    "    #     print(\"관객수\", \"개봉일\", re.findall(regex, text))\n",
    "    #     print('\\n')\n",
    "    #     print('\\n')\n",
    "    \n",
    "    return movies\n",
    "# soup.select('.desc_boxthumb')\n",
    "\n",
    "get_movie_info('https://movie.daum.net/boxoffice/weekly')"
   ]
  },
  {
   "cell_type": "code",
   "execution_count": 89,
   "metadata": {},
   "outputs": [
    {
     "ename": "SyntaxError",
     "evalue": "invalid syntax (<ipython-input-89-f6a25f463516>, line 15)",
     "output_type": "error",
     "traceback": [
      "\u001b[0;36m  File \u001b[0;32m\"<ipython-input-89-f6a25f463516>\"\u001b[0;36m, line \u001b[0;32m15\u001b[0m\n\u001b[0;31m    sortedMovie = sorted(moviesL, key lambda x: sum(x[1]) / len(x[1]), reverse=True)\u001b[0m\n\u001b[0m                                           ^\u001b[0m\n\u001b[0;31mSyntaxError\u001b[0m\u001b[0;31m:\u001b[0m invalid syntax\n"
     ]
    }
   ],
   "source": [
    "ratings = {\n",
    "        '이숙번': {'1917': 5, '엽문4': 2, '라라랜드': 3, '주디': 5},\n",
    "        '강두루': {'1917': 4, '라라랜드': 3, '신과나': 5},\n",
    "        '이고잉': {'라라랜드': 4, '엽문4': 4, '주디': 1},\n",
    "        '정원혁': {'엽문':3, '신과나': 5, '1917': 4, '주디': 2}\n",
    "}\n",
    "# 영화를 평균평점순으로 정렬\n",
    "movies={}\n",
    "for name, records in ratings.items():\n",
    "    for m_name, m_rate in records.items():\n",
    "        if m_name not in movies:\n",
    "            movies[m_name] = []\n",
    "        movies[m_name].append(m_rate)\n",
    "moviesL = list(movies.items())\n",
    "sortedMovie = sorted(moviesL, key=lambda x: sum(x[1]) / len(x[1]), reverse=True)\n",
    "print(sortedMovie)\n",
    "\n",
    "\n",
    "\n",
    "#         print(m_name, m_rate)\n",
    "# for name in ratings:\n",
    "#     for item in ratings[name]:\n",
    "#         if item not in MovieSet :\n",
    "#             MovieSet.append(item)\n",
    "# print(MovieSet)"
   ]
  },
  {
   "cell_type": "code",
   "execution_count": null,
   "metadata": {},
   "outputs": [],
   "source": []
  }
 ],
 "metadata": {
  "kernelspec": {
   "display_name": "Python 3",
   "language": "python",
   "name": "python3"
  },
  "language_info": {
   "codemirror_mode": {
    "name": "ipython",
    "version": 3
   },
   "file_extension": ".py",
   "mimetype": "text/x-python",
   "name": "python",
   "nbconvert_exporter": "python",
   "pygments_lexer": "ipython3",
   "version": "3.7.6"
  }
 },
 "nbformat": 4,
 "nbformat_minor": 4
}
